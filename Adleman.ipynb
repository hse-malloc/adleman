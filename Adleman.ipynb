{
 "cells": [
  {
   "cell_type": "code",
   "execution_count": 8,
   "metadata": {},
   "outputs": [],
   "source": [
    "# Решето Эратосфена\n",
    "def generate_prime_table(n):\n",
    "    multiples = set()\n",
    "    for i in range(2, n+1):\n",
    "        if i not in multiples:\n",
    "            yield i\n",
    "            multiples.update(range(i*i, n+1, i))\n",
    "\n",
    "# subexponentional funtion\n",
    "def L(c, g, q): return e^(c*(log(q))^g *(log(log(q)))^(1-g))"
   ]
  },
  {
   "cell_type": "code",
   "execution_count": 9,
   "metadata": {},
   "outputs": [],
   "source": [
    "def check_factor(number, primeTable):\n",
    "    \n",
    "    def miller_rabin(n):\n",
    "        with proof.WithProof('arithmetic',False):\n",
    "            return is_prime(n)\n",
    "    \n",
    "    if (miller_rabin(number) and number not in primeTable):\n",
    "        return False, None\n",
    "    \n",
    "    \n",
    "    # we should not use only factor function\n",
    "    # 1. we should try Miller-Rabin test [done]\n",
    "    # 2. we should try Brenet's algoritm (or its analog like Lenstra alg) [TODO]\n",
    "    #-----------------------------------\n",
    "    decomposition = dict(factor(Integer(number)))\n",
    "    # ----------------------------------\n",
    "    numberPrimeFactors = set(decomposition.keys())\n",
    "    success = (numberPrimeFactors.issubset(primeTable))\n",
    "    \n",
    "    return (success, decomposition)\n",
    "        \n",
    "\n",
    "def generate_equasion(a, q, primeTable, ring):\n",
    "    \n",
    "    equasionGenerated = False\n",
    "    while not equasionGenerated:\n",
    "        xsi = randint(2, q-1)\n",
    "        axsi = ring(a)^xsi\n",
    "        equasionGenerated, decomposition = check_factor(axsi, primeTable)\n",
    "        \n",
    "    coefficients = [decomposition[p] if p in decomposition else 0 for p in primeTable]\n",
    "    \n",
    "    return (xsi, coefficients)"
   ]
  },
  {
   "cell_type": "code",
   "execution_count": 10,
   "metadata": {},
   "outputs": [],
   "source": [
    "def adleman_log(a, b, p): # return log_a (b) (mod p)\n",
    "    if (p not in Primes()):\n",
    "        return None\n",
    "    \n",
    "    ring = IntegerModRing(p)\n",
    "    q = ring(a).multiplicative_order()\n",
    "    ring_q = IntegerModRing(q)\n",
    "    # TO DO: when q=p1^k1*...*ps^k2\n",
    "    #        use Chinese remainder theorem\n",
    "    if (q not in Primes()):\n",
    "        return None\n",
    "    \n",
    "    # if both q and p are small we can find solution\n",
    "    # with simple brute force\n",
    "    if (q < sqrt(p) and p < 2^17):\n",
    "        ax = ring(1)\n",
    "        for x in range(1, q):\n",
    "            ax *= a\n",
    "            if (ax == b):\n",
    "                return x\n",
    "        return None\n",
    "    \n",
    "    # it is taken like this because of complexity balance on a lagre sacels\n",
    "    border = ceil(L(1/2, 1/2, q)) \n",
    "    primeTable = set(generate_prime_table(border))\n",
    "    \n",
    "    coefficients = []\n",
    "    equasions = []\n",
    "    tableSize = len(primeTable)\n",
    "    while len(equasions) != tableSize: \n",
    "        equasions += [generate_equasion(a,q,primeTable,ring) for _ in range(tableSize)]\n",
    "        coefficients = list(map(lambda x: x[1], equasions))\n",
    "        \n",
    "        # USE Chinese remainder theorem SOMEHOWE when q is not prime\n",
    "        independentEquasions = Matrix(ring_q, coefficients).transpose().pivots()\n",
    "               \n",
    "        equasions = [ equasions[i] for i in independentEquasions]\n",
    "        coefficients = [ coefficients[i] for i in independentEquasions]\n",
    "        \n",
    "    # at this point equasions are generated, so we're solving them\n",
    "    y = vector(list(map(lambda x: x[0], equasions)))\n",
    "    \n",
    "    A = Matrix(ring_q, coefficients)\n",
    "    x = (A^-1) * y\n",
    "    \n",
    "    # finding log_a (b)\n",
    "    while True:\n",
    "        xsi = randint(2, q-1)\n",
    "        bxsi = ring(b)^xsi\n",
    "        found, decomposition = check_factor(bxsi, primeTable)\n",
    "        if found:\n",
    "            \n",
    "            b_coeffisients = vector([decomposition[p] if p in decomposition else 0 for p in primeTable])\n",
    "            \n",
    "            return (ring_q(xsi)^-1)*(x.dot_product(b_coeffisients))"
   ]
  },
  {
   "cell_type": "code",
   "execution_count": 11,
   "metadata": {},
   "outputs": [
    {
     "data": {
      "text/plain": [
       "5"
      ]
     },
     "execution_count": 11,
     "metadata": {},
     "output_type": "execute_result"
    }
   ],
   "source": [
    "adleman_log(14306, 46388, 65521)"
   ]
  },
  {
   "cell_type": "code",
   "execution_count": 12,
   "metadata": {},
   "outputs": [
    {
     "data": {
      "text/plain": [
       "13"
      ]
     },
     "execution_count": 12,
     "metadata": {},
     "output_type": "execute_result"
    }
   ],
   "source": [
    "# 81119 - это простое число софи жермен порядка 2^16\n",
    "adleman_log(2, 8192, 81119)"
   ]
  },
  {
   "cell_type": "code",
   "execution_count": 13,
   "metadata": {
    "scrolled": true
   },
   "outputs": [],
   "source": [
    "# 61209301350421962503 - это простое число софи жермен порядка 2^64\n",
    "# adleman_log(2, 4611686018427387904, 61209301350421962503)"
   ]
  },
  {
   "cell_type": "code",
   "execution_count": null,
   "metadata": {},
   "outputs": [],
   "source": []
  }
 ],
 "metadata": {
  "kernelspec": {
   "display_name": "SageMath 9.2",
   "language": "sage",
   "name": "sagemath"
  },
  "language_info": {
   "codemirror_mode": {
    "name": "ipython",
    "version": 3
   },
   "file_extension": ".py",
   "mimetype": "text/x-python",
   "name": "python",
   "nbconvert_exporter": "python",
   "pygments_lexer": "ipython3",
   "version": "3.7.7"
  }
 },
 "nbformat": 4,
 "nbformat_minor": 4
}
