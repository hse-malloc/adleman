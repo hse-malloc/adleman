{
 "cells": [
  {
   "cell_type": "code",
   "execution_count": 83,
   "metadata": {},
   "outputs": [],
   "source": [
    "# Решето Эратосфена\n",
    "def generate_prime_table(n):\n",
    "    multiples = set()\n",
    "    for i in range(2, n+1):\n",
    "        if i not in multiples:\n",
    "            yield i\n",
    "            multiples.update(range(i*i, n+1, i))\n",
    "\n",
    "# subexponentional funtion\n",
    "def L(c, g, q): return e^(c*(log(q))^g *(log(log(q)))^(1-g))"
   ]
  },
  {
   "cell_type": "code",
   "execution_count": 86,
   "metadata": {},
   "outputs": [],
   "source": [
    "def check_factor(number, primeTable):\n",
    "    # we should not use only factor function\n",
    "    # 1. we should try Miller-Rabin test [TODO]\n",
    "    # 2. we should try Brenet's algoritm (or its analog like Lenstra alg) [TODO]\n",
    "    #-----------------------------------\n",
    "    decomposition = factor(number)\n",
    "    # ----------------------------------\n",
    "    numberPrimeFactors = set(map(lambda x: x[0], decomposition))\n",
    "    success = (numberPrimeFactors.issubset(primeTable))\n",
    "    \n",
    "    return (success, decomposition)\n",
    "        \n",
    "\n",
    "def generate_equasion(a, q, primeTable):\n",
    "    equasionGenerated = False\n",
    "    decomposition = []\n",
    "    \n",
    "    while not equasionGenerated:\n",
    "        xsi = randint(2, q-1)\n",
    "        axsi = ring(a)^xsi\n",
    "        equasionGenerated, decomposition = check_factor(axsi, primeTable)\n",
    "        \n",
    "    coefficients = list(map(lambda x: x[1] if x[1] in primeTable else 0, decomposition))\n",
    "    \n",
    "    return (xsi, coefficients)"
   ]
  },
  {
   "cell_type": "code",
   "execution_count": 85,
   "metadata": {},
   "outputs": [],
   "source": [
    "def adleman_log(a, b, p): # return log_a (b) (mod p)\n",
    "    if (p not in Primes()):\n",
    "        return None\n",
    "    \n",
    "    ring = IntegerModRing(p)\n",
    "    q = ring(a).multiplicative_order()\n",
    "    border = ceil(L(1/2, 1/2, q)) #it is taken like this because of complexity balance\n",
    "    primeTable = set(generate_prime_table(border))\n",
    "    \n",
    "    # generating the equasions\n",
    "    matrixGenerated = False\n",
    "    remainedEquations = len(primeTable)\n",
    "    equasions = []\n",
    "    while not matrixGenerated: \n",
    "        equasions += [generate_equasion(a,q,primeTable) for _ in range(remainedEquations)]\n",
    "        coefficients = list(map(lambda x: x[1], equasions))\n",
    "\n",
    "        linearIndependentColumns = Matrix(ring, coefficients).pivots()\n",
    "        \n",
    "        remainedEquations = len(primeTable) - len(linearIndependentColumns)\n",
    "        matrixGenerated = (remainedEquations == 0)\n",
    "        \n",
    "        equasions = [ equasions[i] for i in linearIndependentColumns]\n",
    "        \n",
    "    \n",
    "    # at this point equasions are generated, so we're solving them\n",
    "    y = vector(list(map(lambda x: x[0], equasions)))\n",
    "    A = Matrix(ring, list(map(lambda x: x[1], equasions)))\n",
    "    x = (A^-1) * y\n",
    "    \n",
    "    # finding log_a (b)\n",
    "    while True:\n",
    "        xsi = randint(2, q-1)\n",
    "        bxsi = ring(b)^xsi\n",
    "        found, decomposition = check_factor(bxsi, primeTable)\n",
    "        if found:\n",
    "            b_coeffisients = vector(list(map(lambda x: x[1] if x[1] in primeTable else 0, decomposition)))\n",
    "            \n",
    "            return (ring(xsi)^-1)*(x.dot_product(b_coeffisients))"
   ]
  },
  {
   "cell_type": "code",
   "execution_count": null,
   "metadata": {},
   "outputs": [],
   "source": []
  }
 ],
 "metadata": {
  "kernelspec": {
   "display_name": "SageMath 9.2",
   "language": "sage",
   "name": "sagemath"
  },
  "language_info": {
   "codemirror_mode": {
    "name": "ipython",
    "version": 3
   },
   "file_extension": ".py",
   "mimetype": "text/x-python",
   "name": "python",
   "nbconvert_exporter": "python",
   "pygments_lexer": "ipython3",
   "version": "3.7.7"
  }
 },
 "nbformat": 4,
 "nbformat_minor": 4
}
